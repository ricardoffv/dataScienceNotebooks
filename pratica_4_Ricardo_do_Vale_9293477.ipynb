{
 "cells": [
  {
   "cell_type": "markdown",
   "metadata": {},
   "source": [
    "# Prática 4 - Exploração de Dados - Parte 4"
   ]
  },
  {
   "cell_type": "markdown",
   "metadata": {},
   "source": [
    "#Nome: Ricardo França Fernandes do Vale     No. USP: 9293477"
   ]
  },
  {
   "cell_type": "markdown",
   "metadata": {},
   "source": [
    "Nesta prática, ocorrerá a exploração de dados denominada pré-processamento, onde serão realizadas técnicas de limpeza dimensional e tratamento de dados faltantes. Por conta do propósito desta aplicação de técnicas, o dataset a ser utilizado para a prática será apenas o dataset com maior quantidade de dados. Ao fim do pré-processamento, será utilizada uma medida de desempenho para a classificação ser aplicada no dataset, para validar o processamento feito nos dados. \n",
    "\n",
    "\n",
    "## Dataset - Agro (Falhas em plantio)\n",
    "\n",
    "Primeiramente, será carregado o dataset:"
   ]
  },
  {
   "cell_type": "code",
   "execution_count": 165,
   "metadata": {},
   "outputs": [
    {
     "data": {
      "text/html": [
       "<div>\n",
       "<style scoped>\n",
       "    .dataframe tbody tr th:only-of-type {\n",
       "        vertical-align: middle;\n",
       "    }\n",
       "\n",
       "    .dataframe tbody tr th {\n",
       "        vertical-align: top;\n",
       "    }\n",
       "\n",
       "    .dataframe thead th {\n",
       "        text-align: right;\n",
       "    }\n",
       "</style>\n",
       "<table border=\"1\" class=\"dataframe\">\n",
       "  <thead>\n",
       "    <tr style=\"text-align: right;\">\n",
       "      <th></th>\n",
       "      <th>Unnamed: 0</th>\n",
       "      <th>Fazenda</th>\n",
       "      <th>Zona</th>\n",
       "      <th>Talhao</th>\n",
       "      <th>Nome_Estacao_SM1</th>\n",
       "      <th>INSTANCIA1</th>\n",
       "      <th>CD_EMPRESA1</th>\n",
       "      <th>Tipo_prop1</th>\n",
       "      <th>CD_SAFRA</th>\n",
       "      <th>Area_Plantio</th>\n",
       "      <th>...</th>\n",
       "      <th>EPT_mm_December</th>\n",
       "      <th>EPT_mm_February</th>\n",
       "      <th>EPT_mm_January</th>\n",
       "      <th>EPT_mm_July</th>\n",
       "      <th>EPT_mm_June</th>\n",
       "      <th>EPT_mm_March</th>\n",
       "      <th>EPT_mm_May</th>\n",
       "      <th>EPT_mm_November</th>\n",
       "      <th>EPT_mm_October</th>\n",
       "      <th>EPT_mm_September</th>\n",
       "    </tr>\n",
       "  </thead>\n",
       "  <tbody>\n",
       "    <tr>\n",
       "      <th>0</th>\n",
       "      <td>1</td>\n",
       "      <td>8065492367f538812f3928137e492c36</td>\n",
       "      <td>dd4ad37ee474732a009111e3456e7ed7</td>\n",
       "      <td>71db8a6cad03244e6e50f0ad8bc95a65</td>\n",
       "      <td>9d808d5988da444614e97bb46dfcc388</td>\n",
       "      <td>4770fa66c5954411ff928125d447259b</td>\n",
       "      <td>c7f66da1cae4f223b9bae717f05900f7</td>\n",
       "      <td>c7f66da1cae4f223b9bae717f05900f7</td>\n",
       "      <td>21617</td>\n",
       "      <td>24.25</td>\n",
       "      <td>...</td>\n",
       "      <td>NaN</td>\n",
       "      <td>NaN</td>\n",
       "      <td>NaN</td>\n",
       "      <td>NaN</td>\n",
       "      <td>NaN</td>\n",
       "      <td>NaN</td>\n",
       "      <td>NaN</td>\n",
       "      <td>NaN</td>\n",
       "      <td>NaN</td>\n",
       "      <td>NaN</td>\n",
       "    </tr>\n",
       "    <tr>\n",
       "      <th>1</th>\n",
       "      <td>2</td>\n",
       "      <td>8065492367f538812f3928137e492c36</td>\n",
       "      <td>dd4ad37ee474732a009111e3456e7ed7</td>\n",
       "      <td>8f3571abef23f6aca0f7b8666a74e7e0</td>\n",
       "      <td>9d808d5988da444614e97bb46dfcc388</td>\n",
       "      <td>4770fa66c5954411ff928125d447259b</td>\n",
       "      <td>c7f66da1cae4f223b9bae717f05900f7</td>\n",
       "      <td>c7f66da1cae4f223b9bae717f05900f7</td>\n",
       "      <td>21617</td>\n",
       "      <td>13.59</td>\n",
       "      <td>...</td>\n",
       "      <td>NaN</td>\n",
       "      <td>NaN</td>\n",
       "      <td>NaN</td>\n",
       "      <td>NaN</td>\n",
       "      <td>NaN</td>\n",
       "      <td>NaN</td>\n",
       "      <td>NaN</td>\n",
       "      <td>NaN</td>\n",
       "      <td>NaN</td>\n",
       "      <td>NaN</td>\n",
       "    </tr>\n",
       "    <tr>\n",
       "      <th>2</th>\n",
       "      <td>3</td>\n",
       "      <td>8065492367f538812f3928137e492c36</td>\n",
       "      <td>dd4ad37ee474732a009111e3456e7ed7</td>\n",
       "      <td>fa5a4df7ac0f9782037da890557fd8b8</td>\n",
       "      <td>9d808d5988da444614e97bb46dfcc388</td>\n",
       "      <td>4770fa66c5954411ff928125d447259b</td>\n",
       "      <td>c7f66da1cae4f223b9bae717f05900f7</td>\n",
       "      <td>c7f66da1cae4f223b9bae717f05900f7</td>\n",
       "      <td>21617</td>\n",
       "      <td>11.34</td>\n",
       "      <td>...</td>\n",
       "      <td>NaN</td>\n",
       "      <td>NaN</td>\n",
       "      <td>NaN</td>\n",
       "      <td>NaN</td>\n",
       "      <td>NaN</td>\n",
       "      <td>NaN</td>\n",
       "      <td>NaN</td>\n",
       "      <td>NaN</td>\n",
       "      <td>NaN</td>\n",
       "      <td>NaN</td>\n",
       "    </tr>\n",
       "    <tr>\n",
       "      <th>3</th>\n",
       "      <td>4</td>\n",
       "      <td>f648ef67be4ec669a2cf9f44a14ad6f4</td>\n",
       "      <td>3a289991381335a0fc94ad80f79fe88e</td>\n",
       "      <td>4b5630ee914e848e8d07221556b0a2fb</td>\n",
       "      <td>bb4b9c9cb3eb0376a9c896805d07adcb</td>\n",
       "      <td>8fdf2b1125e197b694ab48c195f7743f</td>\n",
       "      <td>40755f30599581bfb1186f077db8f580</td>\n",
       "      <td>c01f179e4b57ab8bd9de309e6d576c48</td>\n",
       "      <td>21617</td>\n",
       "      <td>23.16</td>\n",
       "      <td>...</td>\n",
       "      <td>157.8</td>\n",
       "      <td>128.95</td>\n",
       "      <td>134.18</td>\n",
       "      <td>99.63</td>\n",
       "      <td>75.31</td>\n",
       "      <td>139.11</td>\n",
       "      <td>83.1</td>\n",
       "      <td>152.3</td>\n",
       "      <td>151.4</td>\n",
       "      <td>130.1</td>\n",
       "    </tr>\n",
       "    <tr>\n",
       "      <th>4</th>\n",
       "      <td>5</td>\n",
       "      <td>f648ef67be4ec669a2cf9f44a14ad6f4</td>\n",
       "      <td>3a289991381335a0fc94ad80f79fe88e</td>\n",
       "      <td>c01f179e4b57ab8bd9de309e6d576c48</td>\n",
       "      <td>bb4b9c9cb3eb0376a9c896805d07adcb</td>\n",
       "      <td>8fdf2b1125e197b694ab48c195f7743f</td>\n",
       "      <td>40755f30599581bfb1186f077db8f580</td>\n",
       "      <td>c01f179e4b57ab8bd9de309e6d576c48</td>\n",
       "      <td>21617</td>\n",
       "      <td>7.36</td>\n",
       "      <td>...</td>\n",
       "      <td>157.8</td>\n",
       "      <td>128.95</td>\n",
       "      <td>134.18</td>\n",
       "      <td>99.63</td>\n",
       "      <td>75.31</td>\n",
       "      <td>139.11</td>\n",
       "      <td>83.1</td>\n",
       "      <td>152.3</td>\n",
       "      <td>151.4</td>\n",
       "      <td>130.1</td>\n",
       "    </tr>\n",
       "  </tbody>\n",
       "</table>\n",
       "<p>5 rows × 212 columns</p>\n",
       "</div>"
      ],
      "text/plain": [
       "   Unnamed: 0                           Fazenda  \\\n",
       "0           1  8065492367f538812f3928137e492c36   \n",
       "1           2  8065492367f538812f3928137e492c36   \n",
       "2           3  8065492367f538812f3928137e492c36   \n",
       "3           4  f648ef67be4ec669a2cf9f44a14ad6f4   \n",
       "4           5  f648ef67be4ec669a2cf9f44a14ad6f4   \n",
       "\n",
       "                               Zona                            Talhao  \\\n",
       "0  dd4ad37ee474732a009111e3456e7ed7  71db8a6cad03244e6e50f0ad8bc95a65   \n",
       "1  dd4ad37ee474732a009111e3456e7ed7  8f3571abef23f6aca0f7b8666a74e7e0   \n",
       "2  dd4ad37ee474732a009111e3456e7ed7  fa5a4df7ac0f9782037da890557fd8b8   \n",
       "3  3a289991381335a0fc94ad80f79fe88e  4b5630ee914e848e8d07221556b0a2fb   \n",
       "4  3a289991381335a0fc94ad80f79fe88e  c01f179e4b57ab8bd9de309e6d576c48   \n",
       "\n",
       "                   Nome_Estacao_SM1                        INSTANCIA1  \\\n",
       "0  9d808d5988da444614e97bb46dfcc388  4770fa66c5954411ff928125d447259b   \n",
       "1  9d808d5988da444614e97bb46dfcc388  4770fa66c5954411ff928125d447259b   \n",
       "2  9d808d5988da444614e97bb46dfcc388  4770fa66c5954411ff928125d447259b   \n",
       "3  bb4b9c9cb3eb0376a9c896805d07adcb  8fdf2b1125e197b694ab48c195f7743f   \n",
       "4  bb4b9c9cb3eb0376a9c896805d07adcb  8fdf2b1125e197b694ab48c195f7743f   \n",
       "\n",
       "                        CD_EMPRESA1                        Tipo_prop1  \\\n",
       "0  c7f66da1cae4f223b9bae717f05900f7  c7f66da1cae4f223b9bae717f05900f7   \n",
       "1  c7f66da1cae4f223b9bae717f05900f7  c7f66da1cae4f223b9bae717f05900f7   \n",
       "2  c7f66da1cae4f223b9bae717f05900f7  c7f66da1cae4f223b9bae717f05900f7   \n",
       "3  40755f30599581bfb1186f077db8f580  c01f179e4b57ab8bd9de309e6d576c48   \n",
       "4  40755f30599581bfb1186f077db8f580  c01f179e4b57ab8bd9de309e6d576c48   \n",
       "\n",
       "   CD_SAFRA  Area_Plantio        ...        EPT_mm_December EPT_mm_February  \\\n",
       "0     21617         24.25        ...                    NaN             NaN   \n",
       "1     21617         13.59        ...                    NaN             NaN   \n",
       "2     21617         11.34        ...                    NaN             NaN   \n",
       "3     21617         23.16        ...                  157.8          128.95   \n",
       "4     21617          7.36        ...                  157.8          128.95   \n",
       "\n",
       "  EPT_mm_January  EPT_mm_July  EPT_mm_June  EPT_mm_March  EPT_mm_May  \\\n",
       "0            NaN          NaN          NaN           NaN         NaN   \n",
       "1            NaN          NaN          NaN           NaN         NaN   \n",
       "2            NaN          NaN          NaN           NaN         NaN   \n",
       "3         134.18        99.63        75.31        139.11        83.1   \n",
       "4         134.18        99.63        75.31        139.11        83.1   \n",
       "\n",
       "   EPT_mm_November  EPT_mm_October  EPT_mm_September  \n",
       "0              NaN             NaN               NaN  \n",
       "1              NaN             NaN               NaN  \n",
       "2              NaN             NaN               NaN  \n",
       "3            152.3           151.4             130.1  \n",
       "4            152.3           151.4             130.1  \n",
       "\n",
       "[5 rows x 212 columns]"
      ]
     },
     "execution_count": 165,
     "metadata": {},
     "output_type": "execute_result"
    }
   ],
   "source": [
    "import pandas as pd\n",
    "import numpy as np\n",
    "from matplotlib import pyplot as plt\n",
    "import seaborn as sns\n",
    "\n",
    "agro = pd.read_csv(\n",
    "        './falhas_plantio_hashing.csv', \n",
    "        sep=';', header=0, encoding='latin1')\n",
    "agro.head()"
   ]
  },
  {
   "cell_type": "markdown",
   "metadata": {},
   "source": [
    "### 0. Reescolha dos atributos\n",
    "\n",
    "Conforme visto na prática passada, os atributos escolhidos não apresentavam boa correlação linear, além de 3/5 deles possuírem distribuição de dados com obliquidade positiva. Por isso, após algumas questões de pré-processamento, serão refeitas algumas análises após a reescolha dos atributos:\n",
    "\n",
    "* Verificação de histograma\n",
    "* Exibição da correlação entre os atributos (Heat Map)"
   ]
  },
  {
   "cell_type": "markdown",
   "metadata": {},
   "source": [
    "### 1. Amostras com problemas\n",
    "\n",
    "O dataset será, primeiramente, analisado diante de seus dados com problemas. Como a análise é feita com dados numéricos, temos duas abordagens:\n",
    "\n",
    "* Eliminar dados faltantes: seja preenchendo esses dados ou removendo registros com essa característica;\n",
    "* Verificar outliers que podem ter sido obtidos com erro, por representarem dados fora do intervalo esperado ou demonstrarem erro de digitação.\n",
    "\n",
    "A primeira abordagem será seguida primeiramente; dependendo dos resultados, a segunda análise pode não ser feita. O primeiro passo é observar a proporção de colunas faltantes. Para isso ocorrer, inicia-se observando a proporção de dados faltantes por atributo, ordenada de forma ascendente, para exibir primeiro os atributos com menos dados faltantes."
   ]
  },
  {
   "cell_type": "code",
   "execution_count": 166,
   "metadata": {},
   "outputs": [
    {
     "data": {
      "text/plain": [
       "Unnamed: 0          0.000000\n",
       "Ciclo               0.000000\n",
       "Perc_Infest_Inv     0.000000\n",
       "CD_SAFRA            0.000000\n",
       "Tipo_prop1          0.000000\n",
       "CD_EMPRESA1         0.000000\n",
       "Area_Plantio        0.000000\n",
       "Nome_Estacao_SM1    0.000000\n",
       "Talhao              0.000000\n",
       "Zona                0.000000\n",
       "Fazenda             0.000000\n",
       "INSTANCIA1          0.000000\n",
       "FERT_KG             0.002222\n",
       "INSET_KG            0.002222\n",
       "HERB_L              0.002222\n",
       "HERB_KG             0.002222\n",
       "FUNG_L              0.002222\n",
       "FERT_T              0.002222\n",
       "FERT_L              0.002222\n",
       "ESPAL_L             0.002222\n",
       "ADEF_T              0.002222\n",
       "CORR_KG             0.002222\n",
       "BIOL_KG             0.002222\n",
       "BIOL_Co             0.002222\n",
       "ADVE_KG             0.002222\n",
       "INSET_L             0.002222\n",
       "ADEF_PC             0.002222\n",
       "ADEF_KG             0.002222\n",
       "CORR_T              0.002222\n",
       "MATU_KG             0.002222\n",
       "MATU_L              0.002222\n",
       "MUDA_PC             0.002222\n",
       "RESI_M3             0.002222\n",
       "RESI_T              0.002222\n",
       "Perc_Falha          0.056173\n",
       "QT_OPER_Hr          0.056807\n",
       "RESUMO_Hr           0.056807\n",
       "UR_med_May          0.201047\n",
       "UR_med_March        0.201047\n",
       "UR_med_June         0.201047\n",
       "dtype: float64"
      ]
     },
     "execution_count": 166,
     "metadata": {},
     "output_type": "execute_result"
    }
   ],
   "source": [
    "na_proportion_map = ((agro.isna().sum() / len(agro)).sort_values()).head(n=40)\n",
    "na_proportion_map"
   ]
  },
  {
   "cell_type": "markdown",
   "metadata": {},
   "source": [
    "Como é observado acima, os dados não faltantes geralmente estão atribuídos a algum tipo de rótulo ou são valores categóricos, para isso, diante dessa lista de atributos com a proporção de valores faltantes atribuídos a si serão utilizados para estudo posterior apenas os atributos numéricos.\n",
    "\n",
    "### Diante da problemática da reescolha dos atributos...\n",
    "\n",
    "Observando os atributos que possuem a menor quantidade de registros faltantes, e também que possuem especificação significativa para gerar hipóteses, são reescolhidos cinco destes atributos para a análise posterior:\n",
    "\n",
    "* Quantidade (em litros) de maturadores utilizados no plantio;\n",
    "* Quantidade (em litros) de herbicida utilizado na região;\n",
    "* Quantidade (em kg) de fertilizantes utilizados na região;\n",
    "* Quantidade de horas de operação no plantio;\n",
    "* Percentual de Falha no plantio.\n",
    "\n",
    "Na configuração atual, a quantidade de dados perdidos no dataset selecionado é calculada abaixo:"
   ]
  },
  {
   "cell_type": "code",
   "execution_count": 167,
   "metadata": {
    "scrolled": false
   },
   "outputs": [
    {
     "data": {
      "text/html": [
       "<div>\n",
       "<style scoped>\n",
       "    .dataframe tbody tr th:only-of-type {\n",
       "        vertical-align: middle;\n",
       "    }\n",
       "\n",
       "    .dataframe tbody tr th {\n",
       "        vertical-align: top;\n",
       "    }\n",
       "\n",
       "    .dataframe thead th {\n",
       "        text-align: right;\n",
       "    }\n",
       "</style>\n",
       "<table border=\"1\" class=\"dataframe\">\n",
       "  <thead>\n",
       "    <tr style=\"text-align: right;\">\n",
       "      <th></th>\n",
       "      <th>MATU_L</th>\n",
       "      <th>HERB_L</th>\n",
       "      <th>INSET_KG</th>\n",
       "      <th>QT_OPER_Hr</th>\n",
       "      <th>Perc_Falha</th>\n",
       "    </tr>\n",
       "  </thead>\n",
       "  <tbody>\n",
       "    <tr>\n",
       "      <th>0</th>\n",
       "      <td>0.99</td>\n",
       "      <td>0.99</td>\n",
       "      <td>1.01</td>\n",
       "      <td>3.0</td>\n",
       "      <td>0.0039</td>\n",
       "    </tr>\n",
       "    <tr>\n",
       "      <th>1</th>\n",
       "      <td>0.99</td>\n",
       "      <td>1.07</td>\n",
       "      <td>1.01</td>\n",
       "      <td>2.0</td>\n",
       "      <td>0.0016</td>\n",
       "    </tr>\n",
       "    <tr>\n",
       "      <th>2</th>\n",
       "      <td>0.99</td>\n",
       "      <td>1.07</td>\n",
       "      <td>1.01</td>\n",
       "      <td>3.0</td>\n",
       "      <td>0.0019</td>\n",
       "    </tr>\n",
       "    <tr>\n",
       "      <th>3</th>\n",
       "      <td>1.00</td>\n",
       "      <td>1.00</td>\n",
       "      <td>1.22</td>\n",
       "      <td>3.0</td>\n",
       "      <td>0.0182</td>\n",
       "    </tr>\n",
       "    <tr>\n",
       "      <th>4</th>\n",
       "      <td>1.09</td>\n",
       "      <td>0.99</td>\n",
       "      <td>1.09</td>\n",
       "      <td>3.0</td>\n",
       "      <td>0.0214</td>\n",
       "    </tr>\n",
       "  </tbody>\n",
       "</table>\n",
       "</div>"
      ],
      "text/plain": [
       "   MATU_L  HERB_L  INSET_KG  QT_OPER_Hr  Perc_Falha\n",
       "0    0.99    0.99      1.01         3.0      0.0039\n",
       "1    0.99    1.07      1.01         2.0      0.0016\n",
       "2    0.99    1.07      1.01         3.0      0.0019\n",
       "3    1.00    1.00      1.22         3.0      0.0182\n",
       "4    1.09    0.99      1.09         3.0      0.0214"
      ]
     },
     "execution_count": 167,
     "metadata": {},
     "output_type": "execute_result"
    }
   ],
   "source": [
    "MATU_L = pd.Series(agro.MATU_L.apply(pd.to_numeric, errors='coerce'))\n",
    "HERB_L = pd.Series(agro.HERB_L.apply(pd.to_numeric, errors='coerce'))\n",
    "INSET_KG = pd.Series(agro.INSET_KG.apply(pd.to_numeric, errors='coerce'))\n",
    "QT_OPER_Hr = pd.Series(agro.QT_OPER_Hr.apply(pd.to_numeric, errors='coerce'))\n",
    "percFalha = pd.Series(agro.Perc_Falha.apply(pd.to_numeric, errors='coerce'))\n",
    "\n",
    "agro_clean = pd.concat([MATU_L,HERB_L,INSET_KG,QT_OPER_Hr,percFalha], keys=['MATU_L','HERB_L','INSET_KG','QT_OPER_Hr','Perc_Falha'], axis=1).copy()\n",
    "agro_clean.head()"
   ]
  },
  {
   "cell_type": "markdown",
   "metadata": {},
   "source": [
    "Primeiramente, para observar se os atributos, em conjunto, não possuem perda de dados muito grande, será refeita a verificação de porcentagem de dados faltantes; porém, será analisada a quantidade de registros que possua qualquer um dos atributos com dados faltantes."
   ]
  },
  {
   "cell_type": "code",
   "execution_count": 168,
   "metadata": {},
   "outputs": [
    {
     "name": "stdout",
     "output_type": "stream",
     "text": [
      "Porcentagem de linhas excluidas devido a dados faltantes: 13.408441764519196%\n"
     ]
    }
   ],
   "source": [
    "agro_clean1 = agro_clean.dropna().copy()\n",
    "print('Porcentagem de linhas excluidas devido a dados faltantes: ', end='')\n",
    "print(str(((1 - (len(agro_clean1)/len(agro)))*100))+'%')"
   ]
  },
  {
   "cell_type": "markdown",
   "metadata": {},
   "source": [
    "Diante das unidades experimentais, a abordagem de tratamento de dados faltantes será a exclusão dos registros que os possuem em qualquer um dos atributos. A abordagem de substituir os dados faltantes por estimativas é descartada devido à falta de conhecimento técnico na área da agricultura/botânica, o know-how necessário para inferir nos dados que faltam nos registros individualmente.\n",
    "\n",
    "Agora, serão feitas as análises de histograma e de correlação desses atributos."
   ]
  },
  {
   "cell_type": "code",
   "execution_count": 169,
   "metadata": {
    "scrolled": false
   },
   "outputs": [
    {
     "name": "stdout",
     "output_type": "stream",
     "text": [
      "Análise dos histogramas: \n"
     ]
    },
    {
     "data": {
      "image/png": "[encoded data removed]",
      "text/plain": [
       "<matplotlib.figure.Figure at 0x7fcc4e978780>"
      ]
     },
     "metadata": {},
     "output_type": "display_data"
    },
    {
     "name": "stdout",
     "output_type": "stream",
     "text": [
      "\n",
      "\n",
      "\n",
      "Análise da correlação: \n",
      "              MATU_L    HERB_L  INSET_KG  QT_OPER_Hr  Perc_Falha\n",
      "MATU_L      1.000000 -0.034988  0.266051   -0.291467   -0.158294\n",
      "HERB_L     -0.034988  1.000000 -0.018203    0.155242    0.017627\n",
      "INSET_KG    0.266051 -0.018203  1.000000   -0.061266   -0.054546\n",
      "QT_OPER_Hr -0.291467  0.155242 -0.061266    1.000000    0.076716\n",
      "Perc_Falha -0.158294  0.017627 -0.054546    0.076716    1.000000\n"
     ]
    },
    {
     "data": {
      "image/png": "[encoded data removed]",
      "text/plain": [
       "<matplotlib.figure.Figure at 0x7fcbfca04518>"
      ]
     },
     "metadata": {},
     "output_type": "display_data"
    }
   ],
   "source": [
    "print ('Análise dos histogramas: ')\n",
    "plt.figure(figsize=(8, 8))\n",
    "for col in range(1,6):\n",
    "    ax = plt.subplot(3, 2, col)\n",
    "    agro_clean1.iloc[:, col-1].plot.hist(bins=5, grid=True)\n",
    "    ax.set_title(agro_clean1.keys()[col-1])\n",
    "\n",
    "plt.tight_layout()\n",
    "plt.show()\n",
    "\n",
    "print('\\n\\n')\n",
    "print('Análise da correlação: ')\n",
    "correlation = agro_clean1.iloc[:,0:5].corr()\n",
    "print(correlation)\n",
    "axis2 = plt.axes()\n",
    "sns.heatmap(correlation, ax=axis2)\n",
    "axis2.set_title('Mapa de calor da correlação')\n",
    "\n",
    "plt.show()"
   ]
  },
  {
   "cell_type": "markdown",
   "metadata": {},
   "source": [
    "Como é visto nas informações geradas, estes atributos possuem melhores relações para realizar hipóteses de correlação (o número de atributos antissimétricos caiu para 2).\n",
    "\n",
    "Dessa forma, **estes atributos serão levados adiante para as hipóteses**."
   ]
  },
  {
   "cell_type": "markdown",
   "metadata": {},
   "source": [
    "### 2. Tratamento dos dados faltantes"
   ]
  },
  {
   "cell_type": "markdown",
   "metadata": {},
   "source": [
    "Conforme foi discorrido na análise de dados, há uma possibilidade muito grande de que os dados faltantes terão seus registros removidos devido a falta de conhecimento em Agricultura/Botânica/Geografia para estimativa de valores. Outro motivo para evitar a estimativa para substituir valores faltantes é o fato de que isso pode gerar um fenômeno parecido à reamostragem, devido ao aspecto de \"melhorar\" os dados para realizar a classificação de dados.\n",
    "\n",
    "Antes de realizar a limpeza de dados, é necessário observar os outliers dos atributos (através de boxplot) para verificar o porquê de ocorrerem esses dados anômalos. "
   ]
  },
  {
   "cell_type": "code",
   "execution_count": 170,
   "metadata": {},
   "outputs": [
    {
     "data": {
      "image/png": "[encoded data removed]",
      "text/plain": [
       "<matplotlib.figure.Figure at 0x7fcc4f9c84a8>"
      ]
     },
     "metadata": {},
     "output_type": "display_data"
    },
    {
     "data": {
      "image/png": "[encoded data removed]",
      "text/plain": [
       "<matplotlib.figure.Figure at 0x7fcbfc9a7dd8>"
      ]
     },
     "metadata": {},
     "output_type": "display_data"
    },
    {
     "data": {
      "image/png": "[encoded data removed]",
      "text/plain": [
       "<matplotlib.figure.Figure at 0x7fcbfc967e80>"
      ]
     },
     "metadata": {},
     "output_type": "display_data"
    },
    {
     "data": {
      "image/png": "[encoded data removed]",
      "text/plain": [
       "<matplotlib.figure.Figure at 0x7fcbfc928d68>"
      ]
     },
     "metadata": {},
     "output_type": "display_data"
    },
    {
     "data": {
      "image/png": "[encoded data removed]",
      "text/plain": [
       "<matplotlib.figure.Figure at 0x7fcbfc8e4f28>"
      ]
     },
     "metadata": {},
     "output_type": "display_data"
    }
   ],
   "source": [
    "for i in range(len(agro_clean.columns)):\n",
    "    agro_clean.boxplot(column=agro_clean.columns[[i]].tolist(),figsize=(4,4))\n",
    "    plt.show()"
   ]
  },
  {
   "cell_type": "markdown",
   "metadata": {},
   "source": [
    "Como é possível observar, outliers não são dados mal coletados, o que permite reforçar a ideia de que má coleta de dados não pode ter gerado os dados faltantes. Então, a abordagem será observar os registros com dados faltantes."
   ]
  },
  {
   "cell_type": "code",
   "execution_count": 171,
   "metadata": {
    "scrolled": true
   },
   "outputs": [
    {
     "name": "stdout",
     "output_type": "stream",
     "text": [
      "      MATU_L  HERB_L  INSET_KG  QT_OPER_Hr  Perc_Falha\n",
      "89      1.05    1.00      1.05         NaN      0.1107\n",
      "90      1.05    1.00      1.05         NaN      0.1148\n",
      "95      1.05    1.11      1.05         NaN      0.0136\n",
      "99      1.05    1.02      1.05         NaN      0.0240\n",
      "103     1.05    1.03      1.05         NaN      0.0435\n",
      "104     1.05    1.00      1.05         NaN      0.0167\n",
      "110     1.05    1.16      1.05         NaN      0.0278\n",
      "111     1.05    1.12      1.05         NaN      0.0613\n",
      "244     1.08    0.96      1.08         1.0         NaN\n",
      "245     0.00    0.96      0.00         2.0         NaN\n",
      "288     1.00    1.10      1.00         1.0         NaN\n",
      "306     0.96    0.90      0.94         3.0         NaN\n",
      "307     0.96    0.90      0.94         2.0         NaN\n",
      "320     0.96    0.90      0.94         2.0         NaN\n",
      "321     0.96    0.90      0.94         2.0         NaN\n",
      "327     0.96    0.90      0.94         3.0         NaN\n",
      "335     0.90    0.97      0.98         3.0         NaN\n",
      "344     0.90    0.94      0.98         2.0         NaN\n",
      "360     0.00    0.95      1.05         3.0         NaN\n",
      "396     0.90    1.02      0.98         3.0         NaN\n",
      "425     0.00    0.00      0.00         4.0         NaN\n",
      "426     0.00    0.00      0.00         2.0         NaN\n",
      "427     0.00    0.00      0.00         3.0         NaN\n",
      "428     0.00    0.00      0.00         2.0         NaN\n",
      "429     0.00    0.00      0.00         3.0         NaN\n",
      "430     0.00    0.00      0.00         4.0         NaN\n",
      "432     0.00    0.00      0.00         3.0         NaN\n",
      "433     0.00    0.00      1.12         3.0         NaN\n",
      "434     0.00    1.03      1.12         3.0         NaN\n",
      "435     0.00    0.00      1.12         5.0         NaN\n",
      "...      ...     ...       ...         ...         ...\n",
      "5651    1.08    0.95      1.05         NaN      0.0069\n",
      "5666    1.00    0.95      1.03         NaN      0.0123\n",
      "5667    1.00    0.89      1.03         NaN      0.0075\n",
      "5672    1.00    1.06      1.00         NaN      0.0085\n",
      "5673    1.00    1.06      1.00         NaN      0.0146\n",
      "5674    1.00    1.06      1.00         NaN      0.0200\n",
      "5675    1.00    1.06      1.00         NaN      0.0333\n",
      "5676    1.00    1.06      1.00         NaN      0.0155\n",
      "5677    1.00    1.06      1.00         NaN      0.0176\n",
      "5678    1.00    1.06      1.00         NaN      0.0093\n",
      "5684    1.06    1.04      1.06         NaN      0.0112\n",
      "5697    0.97    0.48      0.93         1.0         NaN\n",
      "5720    0.96    0.55      0.93         4.0         NaN\n",
      "5721    0.96    0.57      0.93         4.0         NaN\n",
      "5722    0.96    0.31      0.96         4.0         NaN\n",
      "5723    0.96    0.79      0.92         4.0         NaN\n",
      "5725    0.96    0.58      0.93         4.0         NaN\n",
      "5726    0.96    0.61      0.92         4.0         NaN\n",
      "5727    0.96    0.54      0.92         4.0         NaN\n",
      "5728    0.96    0.53      0.92         4.0         NaN\n",
      "5729    0.96    0.72      0.92         5.0         NaN\n",
      "5730    0.96    0.70      0.92         4.0         NaN\n",
      "5998    1.00    1.04      1.00         2.0         NaN\n",
      "6008    1.00    1.05      1.00         2.0         NaN\n",
      "6009    1.00    1.05      1.00         2.0         NaN\n",
      "6154    1.02    1.10      1.01         2.0         NaN\n",
      "6258    1.00    1.01      1.00         2.0         NaN\n",
      "6265    1.00    1.01      1.00         1.0         NaN\n",
      "6271    1.00    1.01      1.00         1.0         NaN\n",
      "6273    1.00    1.01      1.00         1.0         NaN\n",
      "\n",
      "[845 rows x 5 columns]\n"
     ]
    }
   ],
   "source": [
    "nan_list=[]\n",
    "for i in range(len(agro_clean)):\n",
    "    if(agro_clean.iloc[i,:].isna().sum() != 0):\n",
    "        nan_list.append(agro_clean.iloc[i,:])\n",
    "\n",
    "print(pd.DataFrame(nan_list).head(n=len(nan_list)))"
   ]
  },
  {
   "cell_type": "markdown",
   "metadata": {},
   "source": [
    "Analisando os dados, pode-se inferir que os dados faltantes estão ocorrendo por uma causa **aleatória**, já que os registros demonstram ter dados faltantes por uma simples questão de falta de coleta."
   ]
  },
  {
   "cell_type": "markdown",
   "metadata": {},
   "source": [
    "### 3. Limpeza dos dados\n",
    "\n",
    "Além dos fatores explicados nas seções anteriores, analisando alguns dos valores exibidos na seção anterior, inferir valores pode ser arriscado:\n",
    "\n",
    "* Tanto para os valores de medição de herbicidas, fertilizantes e maturadores, devido ao fato de estarem em um intervalo de dados muito pequeno (provaremos isso no próximo bloco de código);\n",
    "* Quanto para inferir a quantidade de horas trabalhadas e o percentual de falhas, é muito arriscado devido ao fato de que a estimativa que poderia ser usada poderia ser uma medida de centralidade, no entanto, essa medida analisaria apenas os dados da variável; o ideal era realizar um algoritmo de classificação para inferir os percentuais de falha apenas, mas isso não cabe no momento atual.\n",
    "\n",
    "Devido ao fato de que os dados sofreram apenas uma perda de 13,4%, a exclusão desses registros com dados faltantes parece o caminho mais coerente para a realização da classificação."
   ]
  },
  {
   "cell_type": "code",
   "execution_count": 137,
   "metadata": {},
   "outputs": [
    {
     "name": "stdout",
     "output_type": "stream",
     "text": [
      "Intervalo de dados da maturação: 3.01\n",
      "Intervalo de dados de inseticida no plantio: 3.04\n",
      "Intervalo de dados de herbicida no plantio: 2.06\n"
     ]
    }
   ],
   "source": [
    "#Verificação do intervalo dos atributos\n",
    "print('Intervalo de dados da maturação: ', end='')\n",
    "print(agro_clean['MATU_L'].max() - agro_clean['MATU_L'].min())\n",
    "print('Intervalo de dados de inseticida no plantio: ', end='')\n",
    "print(agro_clean['INSET_KG'].max() - agro_clean['INSET_KG'].min())\n",
    "print('Intervalo de dados de herbicida no plantio: ', end='')\n",
    "print(agro_clean['HERB_L'].max() - agro_clean['HERB_L'].min())\n"
   ]
  },
  {
   "cell_type": "markdown",
   "metadata": {},
   "source": [
    "Sendo assim, **os dados faltantes terão seus registros descartados**, conforme código abaixo."
   ]
  },
  {
   "cell_type": "code",
   "execution_count": 172,
   "metadata": {},
   "outputs": [
    {
     "data": {
      "text/html": [
       "<div>\n",
       "<style scoped>\n",
       "    .dataframe tbody tr th:only-of-type {\n",
       "        vertical-align: middle;\n",
       "    }\n",
       "\n",
       "    .dataframe tbody tr th {\n",
       "        vertical-align: top;\n",
       "    }\n",
       "\n",
       "    .dataframe thead th {\n",
       "        text-align: right;\n",
       "    }\n",
       "</style>\n",
       "<table border=\"1\" class=\"dataframe\">\n",
       "  <thead>\n",
       "    <tr style=\"text-align: right;\">\n",
       "      <th></th>\n",
       "      <th>MATU_L</th>\n",
       "      <th>HERB_L</th>\n",
       "      <th>INSET_KG</th>\n",
       "      <th>QT_OPER_Hr</th>\n",
       "      <th>Perc_Falha</th>\n",
       "    </tr>\n",
       "  </thead>\n",
       "  <tbody>\n",
       "    <tr>\n",
       "      <th>0</th>\n",
       "      <td>0.99</td>\n",
       "      <td>0.99</td>\n",
       "      <td>1.01</td>\n",
       "      <td>3.0</td>\n",
       "      <td>0.0039</td>\n",
       "    </tr>\n",
       "    <tr>\n",
       "      <th>1</th>\n",
       "      <td>0.99</td>\n",
       "      <td>1.07</td>\n",
       "      <td>1.01</td>\n",
       "      <td>2.0</td>\n",
       "      <td>0.0016</td>\n",
       "    </tr>\n",
       "    <tr>\n",
       "      <th>2</th>\n",
       "      <td>0.99</td>\n",
       "      <td>1.07</td>\n",
       "      <td>1.01</td>\n",
       "      <td>3.0</td>\n",
       "      <td>0.0019</td>\n",
       "    </tr>\n",
       "    <tr>\n",
       "      <th>3</th>\n",
       "      <td>1.00</td>\n",
       "      <td>1.00</td>\n",
       "      <td>1.22</td>\n",
       "      <td>3.0</td>\n",
       "      <td>0.0182</td>\n",
       "    </tr>\n",
       "    <tr>\n",
       "      <th>4</th>\n",
       "      <td>1.09</td>\n",
       "      <td>0.99</td>\n",
       "      <td>1.09</td>\n",
       "      <td>3.0</td>\n",
       "      <td>0.0214</td>\n",
       "    </tr>\n",
       "  </tbody>\n",
       "</table>\n",
       "</div>"
      ],
      "text/plain": [
       "   MATU_L  HERB_L  INSET_KG  QT_OPER_Hr  Perc_Falha\n",
       "0    0.99    0.99      1.01         3.0      0.0039\n",
       "1    0.99    1.07      1.01         2.0      0.0016\n",
       "2    0.99    1.07      1.01         3.0      0.0019\n",
       "3    1.00    1.00      1.22         3.0      0.0182\n",
       "4    1.09    0.99      1.09         3.0      0.0214"
      ]
     },
     "execution_count": 172,
     "metadata": {},
     "output_type": "execute_result"
    }
   ],
   "source": [
    "agro_clean1 = agro_clean.dropna().copy()\n",
    "agro_clean1.head()"
   ]
  },
  {
   "cell_type": "markdown",
   "metadata": {},
   "source": [
    "### 4. Execução dos algoritmos de classificação"
   ]
  },
  {
   "cell_type": "markdown",
   "metadata": {},
   "source": [
    "Por fim, serão utilizados alguns classificadores para validar as operações de pré-processamento realizadas no dataset. Abaixo está o código de criação dos classificadores e, em seguida, serão exibidas as acurácias geradas por eles."
   ]
  },
  {
   "cell_type": "code",
   "execution_count": 142,
   "metadata": {},
   "outputs": [],
   "source": [
    "from sklearn.svm import SVC, SVR\n",
    "from sklearn.tree import DecisionTreeClassifier, DecisionTreeRegressor\n",
    "from sklearn.neighbors import KNeighborsClassifier, KNeighborsRegressor\n",
    "\n",
    "from sklearn.model_selection import KFold\n",
    "from sklearn.metrics import mean_squared_error\n",
    "from numpy import mean, std\n",
    "\n",
    "\n",
    "def reg_clas(data, columns, target, regression=False):\n",
    "    \"\"\"\n",
    "    Executa classificação ou regressão do conjunto de dados passado\n",
    "    ---------------------------------------------------------------\n",
    "    data:       DataFrame. Conjunto de dados\n",
    "    columns:    Lista de inteiros. Índice das colunas utilizadas no treinamento e teste\n",
    "    target:     Inteiro. Índice da coluna alvo\n",
    "    regression: Boleano. True para realizar uma regressão e False para classificação\n",
    "    ---------------------------------------------------------------\n",
    "    Realiza a classificação/regressão em 4 modelos (SVM com kernel linear, \n",
    "    SVM com kernel polinomial de grau 3, Árvore de decisão, e knn com k=5)\n",
    "    Plot o gráfico de desempenho para cada classificador/regressor.\n",
    "    Retorna um dicionário com os classificadores/regressores treinados e as medidas de desempenho\n",
    "    \"\"\"\n",
    "    \n",
    "    # inicializa os modelos com os parâmetros solicitados\n",
    "    if regression:\n",
    "        svm_l = SVR(C=10*len(data), kernel='linear', cache_size=500, max_iter=1e6)\n",
    "        svm_n = SVR(C=10*len(data), kernel='poly', degree=3, gamma=1, coef0=1, cache_size=500, max_iter=1e6)\n",
    "        dt = DecisionTreeRegressor(criterion='mse', splitter='best', min_samples_split=int(len(data)*0.05))\n",
    "        knn = KNeighborsRegressor(n_neighbors=5, weights='uniform', algorithm='kd_tree')\n",
    "    else:\n",
    "        svm_l = SVC(C=10*len(data), kernel='linear', cache_size=500, max_iter=1e6)\n",
    "        svm_n = SVC(C=10*len(data), kernel='poly', degree=3, gamma=1, coef0=1, cache_size=500, max_iter=1e6)\n",
    "        dt = DecisionTreeClassifier(criterion='gini', splitter='best', min_samples_split=int(len(data)*0.1))\n",
    "        knn = KNeighborsClassifier(n_neighbors=5, weights='uniform', algorithm='kd_tree')\n",
    "    \n",
    "    clfs = [svm_l, svm_n, dt, knn]\n",
    "    clfs_names = ['svm_linear', 'svm_poly', 'dt', 'knn']\n",
    "    \n",
    "    # prepara validação cruzada\n",
    "    # faz divisão do dataset em 5 partes\n",
    "    cv = KFold(n_splits=5, shuffle=True)\n",
    "    \n",
    "    # itera para cada classificador fazendo treino e teste\n",
    "    results = {'svm_linear':[], 'svm_poly':[], 'dt':[], 'knn':[]}\n",
    "    for c, c_name in zip(clfs, clfs_names):\n",
    "        for train_index, test_index in cv.split(data):\n",
    "            \n",
    "            # separa conjunto de treino e de teste\n",
    "            x_train, y_train = data.iloc[train_index, columns], data.iloc[train_index, target]\n",
    "            x_test, y_test = data.iloc[test_index, columns], data.iloc[test_index, target]\n",
    "            \n",
    "            # faz o treino do modelo\n",
    "            clf = c.fit(X=x_train, y=y_train)\n",
    "            \n",
    "            # realiza predição no conjunto de teste e salva o resultado\n",
    "            if regression:\n",
    "                results[c_name].append( mean_squared_error(clf.predict(x_test), y_test) )\n",
    "            else:\n",
    "                results[c_name].append( clf.score(x_test, y_test) )\n",
    "    \n",
    "    # faz o plot de desempenho dos classificadores/regressores\n",
    "    plt.figure(figsize=(8,8))\n",
    "    plt.bar(range(1, len(clfs)+1), [mean(results[name]) for name in clfs_names], \n",
    "                                yerr=[std(results[name]) for name in clfs_names])\n",
    "    plt.xticks(range(1, len(clfs)+1), clfs_names, rotation=45)\n",
    "    title = 'Desempenho dos regressores - erro quadrático médio' if regression else \\\n",
    "            'Desempenho dos classificadores - acurácia'\n",
    "    plt.title(title)\n",
    "    plt.show()\n",
    "    \n",
    "    return {'results': results, 'clfs':clfs}\n"
   ]
  },
  {
   "cell_type": "code",
   "execution_count": 174,
   "metadata": {},
   "outputs": [
    {
     "name": "stderr",
     "output_type": "stream",
     "text": [
      "/home/ricardoffv/.local/lib/python3.5/site-packages/sklearn/svm/base.py:218: ConvergenceWarning: Solver terminated early (max_iter=1000000).  Consider pre-processing your data with StandardScaler or MinMaxScaler.\n",
      "  % self.max_iter, ConvergenceWarning)\n"
     ]
    },
    {
     "data": {
      "image/png": "[encoded data removed]",
      "text/plain": [
       "<matplotlib.figure.Figure at 0x7fcbfc842da0>"
      ]
     },
     "metadata": {},
     "output_type": "display_data"
    },
    {
     "data": {
      "text/plain": [
       "{'clfs': [SVR(C=54570, cache_size=500, coef0=0.0, degree=3, epsilon=0.1, gamma='auto',\n",
       "    kernel='linear', max_iter=1000000.0, shrinking=True, tol=0.001,\n",
       "    verbose=False),\n",
       "  SVR(C=54570, cache_size=500, coef0=1, degree=3, epsilon=0.1, gamma=1,\n",
       "    kernel='poly', max_iter=1000000.0, shrinking=True, tol=0.001,\n",
       "    verbose=False),\n",
       "  DecisionTreeRegressor(criterion='mse', max_depth=None, max_features=None,\n",
       "             max_leaf_nodes=None, min_impurity_decrease=0.0,\n",
       "             min_impurity_split=None, min_samples_leaf=1,\n",
       "             min_samples_split=272, min_weight_fraction_leaf=0.0,\n",
       "             presort=False, random_state=None, splitter='best'),\n",
       "  KNeighborsRegressor(algorithm='kd_tree', leaf_size=30, metric='minkowski',\n",
       "            metric_params=None, n_jobs=1, n_neighbors=5, p=2,\n",
       "            weights='uniform')],\n",
       " 'results': {'dt': [0.007972435620826526,\n",
       "   0.009270162648475362,\n",
       "   0.006361057876551668,\n",
       "   0.007203695771049554,\n",
       "   0.007611931303474687],\n",
       "  'knn': [0.008156196754578756,\n",
       "   0.008893247442124542,\n",
       "   0.007395887824747938,\n",
       "   0.00782857181888176,\n",
       "   0.007178109311090743],\n",
       "  'svm_linear': [91.74080400963064,\n",
       "   103.23324276778821,\n",
       "   26.44932780223573,\n",
       "   24.888202018998935,\n",
       "   5.043664576680801],\n",
       "  'svm_poly': [3081625004.73461,\n",
       "   940488703.4898856,\n",
       "   158626297.2906968,\n",
       "   91945770.06007823,\n",
       "   369067924.3806045]}}"
      ]
     },
     "execution_count": 174,
     "metadata": {},
     "output_type": "execute_result"
    }
   ],
   "source": [
    "target = agro_clean1.shape[1] -1\n",
    "columns = [0, 1, 2, 3]\n",
    "reg_clas(agro_clean1, columns, target, regression=True)"
   ]
  },
  {
   "cell_type": "markdown",
   "metadata": {},
   "source": [
    "### 5. Conclusão\n",
    "\n",
    "O Erro (1 - acurácia) foi calculado de maneira que gerou valores com margens anormais, algo que pode ser atribuído a um número muito grande de registros com variáveis de valor zero. Devido ao uso da regressão linear como classificador só é possível observar graficamente a classificação do SVM policlasse."
   ]
  }
 ],
 "metadata": {
  "kernelspec": {
   "display_name": "Python 3",
   "language": "python",
   "name": "python3"
  },
  "language_info": {
   "codemirror_mode": {
    "name": "ipython",
    "version": 3
   },
   "file_extension": ".py",
   "mimetype": "text/x-python",
   "name": "python",
   "nbconvert_exporter": "python",
   "pygments_lexer": "ipython3",
   "version": "3.5.2"
  }
 },
 "nbformat": 4,
 "nbformat_minor": 2
}
