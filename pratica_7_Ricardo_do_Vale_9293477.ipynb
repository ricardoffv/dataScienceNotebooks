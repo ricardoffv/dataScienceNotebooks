{
 "cells": [
  {
   "cell_type": "markdown",
   "metadata": {},
   "source": [
    "# Prática 7 - Experimentos - Parte II"
   ]
  },
  {
   "cell_type": "markdown",
   "metadata": {},
   "source": [
    "#Nome: Ricardo França Fernandes do Vale     No. USP: 9293477"
   ]
  },
  {
   "cell_type": "markdown",
   "metadata": {},
   "source": [
    "Nesta prática, o foco é observar o modelo de classificação, em especial, algumas métricas de interesse para observar sua eficiência para a resolução do problema. Neste relatório serão abordadas questões como testes de hipótese e curvas ROC, a fim de refinar as informações sobre o desempenho para tentar arquitetar maneiras de melhorá-lo. \n",
    "\n",
    "\n",
    "## Dataset - Breast Cancer\n",
    "\n",
    "Como o objetivo da prática é testar uma modelagem de avaliação, o dataset de interesse continua sendo com classes discretas e binarizado por natureza: o dataset Breast Cancer, que, diante de alguns fatores biológicos (atributos) tem como alvo classificar a amostra como tumor benigno ou maligno. Primeiramente, será carregado o dataset; serão utilizados apenas os atributos selecionados a partir da prática anterior:"
   ]
  },
  {
   "cell_type": "code",
   "execution_count": 1,
   "metadata": {},
   "outputs": [
    {
     "data": {
      "text/html": [
       "<div>\n",
       "<style scoped>\n",
       "    .dataframe tbody tr th:only-of-type {\n",
       "        vertical-align: middle;\n",
       "    }\n",
       "\n",
       "    .dataframe tbody tr th {\n",
       "        vertical-align: top;\n",
       "    }\n",
       "\n",
       "    .dataframe thead th {\n",
       "        text-align: right;\n",
       "    }\n",
       "</style>\n",
       "<table border=\"1\" class=\"dataframe\">\n",
       "  <thead>\n",
       "    <tr style=\"text-align: right;\">\n",
       "      <th></th>\n",
       "      <th>mean smoothness</th>\n",
       "      <th>mean symmetry</th>\n",
       "      <th>worst smoothness</th>\n",
       "      <th>worst texture</th>\n",
       "      <th>target</th>\n",
       "    </tr>\n",
       "  </thead>\n",
       "  <tbody>\n",
       "    <tr>\n",
       "      <th>0</th>\n",
       "      <td>0.11840</td>\n",
       "      <td>0.2419</td>\n",
       "      <td>0.1622</td>\n",
       "      <td>17.33</td>\n",
       "      <td>0.0</td>\n",
       "    </tr>\n",
       "    <tr>\n",
       "      <th>1</th>\n",
       "      <td>0.08474</td>\n",
       "      <td>0.1812</td>\n",
       "      <td>0.1238</td>\n",
       "      <td>23.41</td>\n",
       "      <td>0.0</td>\n",
       "    </tr>\n",
       "    <tr>\n",
       "      <th>2</th>\n",
       "      <td>0.10960</td>\n",
       "      <td>0.2069</td>\n",
       "      <td>0.1444</td>\n",
       "      <td>25.53</td>\n",
       "      <td>0.0</td>\n",
       "    </tr>\n",
       "    <tr>\n",
       "      <th>3</th>\n",
       "      <td>0.14250</td>\n",
       "      <td>0.2597</td>\n",
       "      <td>0.2098</td>\n",
       "      <td>26.50</td>\n",
       "      <td>0.0</td>\n",
       "    </tr>\n",
       "    <tr>\n",
       "      <th>4</th>\n",
       "      <td>0.10030</td>\n",
       "      <td>0.1809</td>\n",
       "      <td>0.1374</td>\n",
       "      <td>16.67</td>\n",
       "      <td>0.0</td>\n",
       "    </tr>\n",
       "  </tbody>\n",
       "</table>\n",
       "</div>"
      ],
      "text/plain": [
       "   mean smoothness  mean symmetry  worst smoothness  worst texture  target\n",
       "0          0.11840         0.2419            0.1622          17.33     0.0\n",
       "1          0.08474         0.1812            0.1238          23.41     0.0\n",
       "2          0.10960         0.2069            0.1444          25.53     0.0\n",
       "3          0.14250         0.2597            0.2098          26.50     0.0\n",
       "4          0.10030         0.1809            0.1374          16.67     0.0"
      ]
     },
     "execution_count": 1,
     "metadata": {},
     "output_type": "execute_result"
    }
   ],
   "source": [
    "import pandas as pd\n",
    "import numpy as np\n",
    "from matplotlib import pyplot as plt\n",
    "import seaborn as sns\n",
    "from sklearn.datasets import load_breast_cancer\n",
    "\n",
    "data = load_breast_cancer()\n",
    "data = pd.DataFrame(data=np.c_[data['data'], data['target']], \n",
    "                          columns=np.r_[data['feature_names'], ['target']])\n",
    "\n",
    "bc = data[['mean smoothness','mean symmetry', 'worst smoothness','worst texture','target']].copy()\n",
    "bc.head()"
   ]
  },
  {
   "cell_type": "markdown",
   "metadata": {},
   "source": [
    "### 1. Classificação\n",
    "\n",
    "Carregada a base de dados, o primeiro passo é realizar a técnica do 10-fold cross validation para obter medidas como acurácia, sensitividade, entre outras, para observar o desempenho da classificação apenas com as métricas mais adequadas. Abaixo encontra-se a função de classificação utilizada."
   ]
  },
  {
   "cell_type": "code",
   "execution_count": 2,
   "metadata": {},
   "outputs": [],
   "source": [
    "from sklearn.svm import SVC, SVR\n",
    "from sklearn.tree import DecisionTreeClassifier, DecisionTreeRegressor\n",
    "from sklearn.neighbors import KNeighborsClassifier, KNeighborsRegressor\n",
    "from sklearn.linear_model import Perceptron\n",
    "\n",
    "from sklearn.model_selection import KFold\n",
    "from sklearn.metrics import mean_squared_error\n",
    "from numpy import mean, std\n",
    "\n",
    "from sklearn.metrics import accuracy_score\n",
    "\n",
    "import warnings\n",
    "warnings.filterwarnings('ignore')\n",
    "\n",
    "def classificacao(data, columns, target, score=accuracy_score, score_name='acurácia', \n",
    "                  folds=10, plot=True):\n",
    "    \"\"\"\n",
    "    Executa classificação do conjunto de dados passado\n",
    "    ---------------------------------------------------------------\n",
    "    data:       DataFrame. Conjunto de dados\n",
    "    columns:    Lista de inteiros. Índice das colunas utilizadas no treinamento e teste\n",
    "    target:     Inteiro. Índice da coluna alvo\n",
    "    score:      Função. A função que calcula a medida de desempenho desejada. Deve ser uma \n",
    "                função que compara dois vetores, o primeiro vetor são os valores preditos\n",
    "                pelo classificador, o segundo os rótulos reais\n",
    "                Vide exemplo das funções em \n",
    "                http://scikit-learn.org/stable/modules/classes.html#module-sklearn.metrics\n",
    "                como por exemplo, sklearn.metrics.accuracy_score\n",
    "                http://scikit-learn.org/stable/modules/generated/sklearn.metrics.accuracy_score.html\n",
    "    score_name: String. Uma string com o nome da medida de desempenho\n",
    "    folds:      Inteiro. Número de folds na validação cruzada\n",
    "    ---------------------------------------------------------------\n",
    "    Realiza a classificação em 6 modelos (perceptron, \n",
    "    SVM com kernel polinomial de grau 3, Árvore de decisão, 3NN, 5NN, e 7NN)\n",
    "    Retorna um dicionário com os classificadores treinados e as medidas de desempenho\n",
    "    \"\"\"\n",
    "    import numpy as np\n",
    "    # inicializa os modelos com os parâmetros solicitados\n",
    "    prcp = Perceptron()\n",
    "    #svm_n = SVC(C=10*len(data), kernel='poly', degree=3, gamma=1, coef0=1, cache_size=500, max_iter=1e6)\n",
    "    dt = DecisionTreeClassifier(criterion='gini', splitter='best', min_samples_split=int(len(data)*0.1))\n",
    "    _3nn = KNeighborsClassifier(n_neighbors=3, weights='uniform', algorithm='auto')\n",
    "    _5nn = KNeighborsClassifier(n_neighbors=5, weights='uniform', algorithm='auto')\n",
    "    _7nn = KNeighborsClassifier(n_neighbors=7, weights='uniform', algorithm='auto')\n",
    "    \n",
    "    clfs = [prcp, dt, _3nn, _5nn, _7nn]\n",
    "    clfs_names = ['perceptron', 'dt', '3nn', '5nn', '7nn']\n",
    "    \n",
    "    # prepara validação cruzada\n",
    "    # faz divisão do dataset em k partes\n",
    "    cv = KFold(n_splits=folds, shuffle=True)\n",
    "    \n",
    "    # itera para cada classificador fazendo treino e teste\n",
    "    results_actual = {'perceptron':[], 'dt':[], '3nn':[], '5nn':[], '7nn':[]}\n",
    "    results_predicted = {'perceptron':[], 'dt':[], '3nn':[], '5nn':[], '7nn':[]}\n",
    "    for c, c_name in zip(clfs, clfs_names):\n",
    "        for train_index, test_index in cv.split(data):\n",
    "            \n",
    "            # separa conjunto de treino e de teste\n",
    "            x_train, y_train = data.iloc[train_index, columns], data.iloc[train_index, target]\n",
    "            x_test, y_test = data.iloc[test_index, columns], data.iloc[test_index, target]\n",
    "            \n",
    "            # faz o treino do modelo\n",
    "            clf = c.fit(X=x_train, y=y_train)\n",
    "            \n",
    "            # valores predito pelo classificador\n",
    "            y_pred = clf.predict(x_test)\n",
    "            # rótulos verdadeiros convertidos para array\n",
    "            y_test = np.array(y_test)\n",
    "\n",
    "            # realiza predição no conjunto de teste e salva o resultado\n",
    "            results_actual[c_name] = np.append(y_test, results_actual[c_name])\n",
    "            results_predicted[c_name] = np.append(y_pred, results_predicted[c_name])\n",
    "\n",
    "    return results_actual, results_predicted\n",
    "    "
   ]
  },
  {
   "cell_type": "markdown",
   "metadata": {},
   "source": [
    "Sendo assim, será aplicado o classificador no conjunto de dados reduzido o 10-fold cross validation. Em seguida, será obtida a matriz de confusão do classificador, de onde serão tiradas as medidas de interesse e exibidas abaixo."
   ]
  },
  {
   "cell_type": "code",
   "execution_count": 91,
   "metadata": {
    "scrolled": false
   },
   "outputs": [
    {
     "name": "stdout",
     "output_type": "stream",
     "text": [
      "Dada a configuração da matriz: \n",
      "|----------|\n",
      "| VP\tFN |\n",
      "| FP\tVN |\n",
      "|----------|\n",
      "\n",
      "\n",
      "Para o classificador:  3nn\n",
      "Medida de desempenho - 10-fold cross validation\n",
      "Acurácia:  0.6959578207381371\n",
      "Precisão:  0.5951219512195122\n",
      "Revocação:  0.5754716981132075\n",
      "Especificidade:  0.7675070028011205\n",
      "Media harmonica ponderada:  0.5905534964611348\n",
      "Medida-F1:  0.5851318944844125\n",
      "\n",
      "\n",
      "\n",
      "Para o classificador:  dt\n",
      "Medida de desempenho - 10-fold cross validation\n",
      "Acurácia:  0.7627416520210897\n",
      "Precisão:  0.7150837988826816\n",
      "Revocação:  0.6037735849056604\n",
      "Especificidade:  0.8571428571428571\n",
      "Media harmonica ponderada:  0.68641474142432\n",
      "Medida-F1:  0.6547314578005116\n",
      "\n",
      "\n",
      "\n",
      "Para o classificador:  5nn\n",
      "Medida de desempenho - 10-fold cross validation\n",
      "Acurácia:  0.6924428822495606\n",
      "Precisão:  0.592964824120603\n",
      "Revocação:  0.5566037735849056\n",
      "Especificidade:  0.773109243697479\n",
      "Media harmonica ponderada:  0.5843170421160081\n",
      "Medida-F1:  0.5742092457420924\n",
      "\n",
      "\n",
      "\n",
      "Para o classificador:  perceptron\n",
      "Medida de desempenho - 10-fold cross validation\n",
      "Acurácia:  0.5289982425307557\n",
      "Precisão:  0.3409090909090909\n",
      "Revocação:  0.2830188679245283\n",
      "Especificidade:  0.6750700280112045\n",
      "Media harmonica ponderada:  0.3258110184709655\n",
      "Medida-F1:  0.30927835051546393\n",
      "\n",
      "\n",
      "\n",
      "Para o classificador:  7nn\n",
      "Medida de desempenho - 10-fold cross validation\n",
      "Acurácia:  0.7100175746924429\n",
      "Precisão:  0.6192893401015228\n",
      "Revocação:  0.5754716981132075\n",
      "Especificidade:  0.7899159663865546\n",
      "Media harmonica ponderada:  0.6087877077041286\n",
      "Medida-F1:  0.5965770171149144\n",
      "\n",
      "\n",
      "\n"
     ]
    }
   ],
   "source": [
    "results_actual, results_predicted = classificacao(bc, [0,1,2,3], 4, folds=10, plot=False)\n",
    "\n",
    "from sklearn.metrics import confusion_matrix\n",
    "\n",
    "classifiers = results_predicted.keys()\n",
    "\n",
    "print('Dada a configuração da matriz: ')\n",
    "print('|----------|')\n",
    "print('| VP\\tFN |')\n",
    "print('| FP\\tVN |')\n",
    "print('|----------|\\n\\n')\n",
    "\n",
    "alfa = 0.29291\n",
    "for c in classifiers:\n",
    "    print('Para o classificador: ', c)\n",
    "    tp, fn, fp, tn = confusion_matrix(results_actual[c], results_predicted[c]).ravel()\n",
    "\n",
    "    print('Medida de desempenho - 10-fold cross validation')\n",
    "    precision = tp/float(tp+fp)\n",
    "    revoke = tp/float(tp+fn)\n",
    "    print('Acurácia: ', (tp+tn)/float(tp+fp+tn+fn))\n",
    "    print('Precisão: ', precision)\n",
    "    print('Revocação: ', revoke)\n",
    "    print('Especificidade: ', tn/float(tn+fp))\n",
    "    print('Media harmonica ponderada: ', ((1+alfa)*precision*revoke)/(alfa*precision+revoke))\n",
    "    print('Medida-F1: ', 2/((1/precision)+(1/revoke)))\n",
    "    print('\\n\\n')"
   ]
  },
  {
   "cell_type": "markdown",
   "metadata": {},
   "source": [
    "Dentre os valores obtidos, é possível observar a peculiaridade de cada métrica obtida. A acurácia não chega a 80% em nenhum dos casos, mas tem um desempenho notavelmente melhor para os classificadores que utilizam árvore de decisão ou cálculo de distância, o que é compreensível, por se tratar de um problema binário; inclusive, a maior acurácia é obtida pelas árvores de decisão. O mesmo efeito dos classificadores é observado na precisão e na revocação. \n",
    "\n",
    "O cenário muda diante da especificidade, em que o perceptron, que possuía os menores valores até então, atinge os maior valor diante dos outros classificadores. A especificidade é definida como a porcentagem de exemplos negativos classificados como negativos, o que indica que o perceptron seria o melhor classificador para identificar tumores benignos.\n",
    "\n",
    "Porém, ao calcular-se a média harmônica e a medida-f1 que balanceiam duas medidas para observar a quantidade de acertos nas predições de classificações positivas, o padrão das demais medidas exceto a especificidade é seguido, o que permite concluir que as árvores de decisão são o melhor classificador, nesta aplicação, para descobrir tumores negativos. "
   ]
  },
  {
   "cell_type": "markdown",
   "metadata": {},
   "source": [
    "### 2. Curva ROC e área sob a curva\n",
    "\n",
    "A próxima observação a ser feita sobre o modelo de predição é o cálculo da curva ROC, uma medida de desempenho da classificação. Serão apenas utilizados os classificadores:\n",
    "- Decision Trees;\n",
    "- 7nn.\n",
    "Devido ao fato de terem atingidos as maiores acurácias e serem os mais precisos diante do problema de predizer tumores malignos.\n",
    "\n",
    "Para observar a curva ROC, deve-se reescrever a função de classificação para retornar scores. "
   ]
  },
  {
   "cell_type": "code",
   "execution_count": 52,
   "metadata": {},
   "outputs": [],
   "source": [
    "from sklearn.model_selection import train_test_split\n",
    "\n",
    "def classificacao_ROC(data, columns, target):\n",
    "    # inicializa os modelos com os parâmetros solicitados\n",
    "    dt = DecisionTreeClassifier(criterion='gini', splitter='best', min_samples_split=int(len(data)*0.1))\n",
    "    _7nn = KNeighborsClassifier(n_neighbors=7, weights='uniform', algorithm='auto')\n",
    "    \n",
    "    clfs = [dt,_7nn]\n",
    "    clfs_names = ['dt','7nn']\n",
    "    \n",
    "    results = {'dt':(),'7nn':()}\n",
    "    \n",
    "    for c,c_name in zip(clfs, clfs_names):\n",
    "        # inicializando os holdouts\n",
    "        x_train, x_test, y_train, y_test = train_test_split(data.iloc[:,columns],data.iloc[:,target],\n",
    "                                                            test_size=0.2)\n",
    "        clf = c.fit(X=x_train, y=y_train)\n",
    "\n",
    "        # valores predito pelo classificador\n",
    "        # escrito dessa forma para retornar a probabilidade\n",
    "        y_pred = clf.predict_proba(x_test)\n",
    "        # rótulos verdadeiros convertidos para array\n",
    "        y_test = np.array(y_test)\n",
    "        \n",
    "        #Concatenando valores\n",
    "        results[c_name] = (y_pred, y_test)\n",
    "    \n",
    "    return results"
   ]
  },
  {
   "cell_type": "markdown",
   "metadata": {},
   "source": [
    "Sendo assim, os scores serão obtidos para que seja realizado o cálculo da curva ROC e a área sob a curva ROC."
   ]
  },
  {
   "cell_type": "code",
   "execution_count": 73,
   "metadata": {},
   "outputs": [
    {
     "name": "stdout",
     "output_type": "stream",
     "text": [
      "Curva ROC para a Decision Tree\n"
     ]
    },
    {
     "data": {
      "image/png": "[encoded data removed]",
      "text/plain": [
       "<matplotlib.figure.Figure at 0x7f4c1bfb1d68>"
      ]
     },
     "metadata": {},
     "output_type": "display_data"
    },
    {
     "name": "stdout",
     "output_type": "stream",
     "text": [
      "Curva ROC para o 7NN\n"
     ]
    },
    {
     "data": {
      "image/png": "[encoded data removed]",
      "text/plain": [
       "<matplotlib.figure.Figure at 0x7f4c1bfb1358>"
      ]
     },
     "metadata": {},
     "output_type": "display_data"
    },
    {
     "name": "stdout",
     "output_type": "stream",
     "text": [
      "\n",
      "\n",
      "AUC da Deicision Tree:  0.8212662337662338\n",
      "AUC do 7nn:  0.7438584998362266\n"
     ]
    }
   ],
   "source": [
    "from sklearn.metrics import roc_curve, roc_auc_score\n",
    "\n",
    "clf_10_fold_cv = classificacao_ROC(bc, [0,1,2,3], 4)\n",
    "\n",
    "# Obtendo os valores preditos e reais para plotar na curva ROC\n",
    "dt_pred = clf_10_fold_cv['dt'][0]\n",
    "dt_test = clf_10_fold_cv['dt'][1]\n",
    "_7nn_pred = clf_10_fold_cv['7nn'][0]\n",
    "_7nn_test = clf_10_fold_cv['7nn'][1]\n",
    "\n",
    "# Plotando a curva roc\n",
    "# Decision Tree\n",
    "print('Curva ROC para a Decision Tree')\n",
    "fpr, tpr, thresholds = roc_curve(dt_test, dt_pred[:,1])\n",
    "plt.plot(fpr,tpr)\n",
    "plt.xlabel(\"1 - Especificidade\")\n",
    "plt.ylabel(\"Sensibilidade\")\n",
    "plt.show()\n",
    "\n",
    "# 7NN\n",
    "print('Curva ROC para o 7NN')\n",
    "fpr, tpr, thresholds = roc_curve(_7nn_test, _7nn_pred[:,1])\n",
    "plt.xlabel(\"1 - Especificidade\")\n",
    "plt.ylabel(\"Sensibilidade\")\n",
    "plt.plot(fpr,tpr)\n",
    "plt.show()\n",
    "\n",
    "# Calculando a área sobre a curva ROC\n",
    "print('\\n')\n",
    "print('AUC da Deicision Tree: ', roc_auc_score(dt_test, dt_pred[:,1]))\n",
    "print('AUC do 7nn: ', roc_auc_score(_7nn_test, _7nn_pred[:,1]))"
   ]
  },
  {
   "cell_type": "markdown",
   "metadata": {},
   "source": [
    "### 3. Interpretação dos valores da curva ROC e AUC\n",
    "\n",
    "Dada a curva de aprendizado ROC de ambos os classificadores, a área sob a curva, que indica uma estimativa de desempenho reforça a ideia de que a **árvore de decisão** possui um melhor desempenho por causa de sua área maior.\n",
    "\n",
    "### 4. Teste de hipótese\n",
    "\n",
    "Por fim, será realizado um teste de hipótese para observar, sem um olhar subjetivo, a comparação entre dois classificadores e poder interpretar qual a melhor, dado um intervalo de confiança. Novamente, os classificadores a serem comparados pelo teste de hipótese serão o 7nn e a decision tree.\n",
    "\n",
    "O teste de hipótese escolhido será o t-test não pareado com 5% de nível de significância, sendo que a hipótese nula (H0) é que a média de erro da decision tree seja igual à média de erro do 7nn. Para isso, a função de classificação será reescrita para retornar os resultados brutos (como nas primeiras práticas) e, então, aplicar o teste de hipótese."
   ]
  },
  {
   "cell_type": "code",
   "execution_count": 3,
   "metadata": {},
   "outputs": [],
   "source": [
    "from sklearn.metrics import mean_squared_error\n",
    "from numpy import mean, std\n",
    "\n",
    "import warnings\n",
    "warnings.filterwarnings('ignore')\n",
    "\n",
    "def classificacao_th(data, columns, target, score, score_name, folds=10):\n",
    "    import numpy as np\n",
    "    # inicializa os modelos com os parâmetros solicitados\n",
    "    dt = DecisionTreeClassifier(criterion='gini', splitter='best', min_samples_split=int(len(data)*0.1))\n",
    "    _7nn = KNeighborsClassifier(n_neighbors=7, weights='uniform', algorithm='auto')\n",
    "    \n",
    "    clfs = [dt, _7nn]\n",
    "    clfs_names = ['dt', '7nn']\n",
    "    \n",
    "    # prepara validação cruzada\n",
    "    # faz divisão do dataset em 5 partes\n",
    "    cv = KFold(n_splits=folds, shuffle=True)\n",
    "    \n",
    "    # itera para cada classificador fazendo treino e teste\n",
    "    results = {'dt':[], '7nn':[]}\n",
    "    for c, c_name in zip(clfs, clfs_names):\n",
    "        for train_index, test_index in cv.split(data):\n",
    "            \n",
    "            # separa conjunto de treino e de teste\n",
    "            x_train, y_train = data.iloc[train_index, columns], data.iloc[train_index, target]\n",
    "            x_test, y_test = data.iloc[test_index, columns], data.iloc[test_index, target]\n",
    "            \n",
    "            # faz o treino do modelo\n",
    "            clf = c.fit(X=x_train, y=y_train)\n",
    "            \n",
    "            # valores predito pelo classificador\n",
    "            y_pred = clf.predict(x_test)\n",
    "            # rótulos verdadeiros convertidos para array\n",
    "            y_test = np.array(y_test)\n",
    "            \n",
    "            # realiza predição no conjunto de teste e salva o resultado\n",
    "            results[c_name].append( score(y_test, y_pred) )\n",
    "    \n",
    "    return results"
   ]
  },
  {
   "cell_type": "code",
   "execution_count": 5,
   "metadata": {},
   "outputs": [
    {
     "name": "stdout",
     "output_type": "stream",
     "text": [
      "Ttest_indResult(statistic=-1.3810344922600692, pvalue=0.18417494348609428)\n",
      "[0.3684210526315789, 0.38596491228070173, 0.5087719298245614, 0.5263157894736842, 0.3157894736842105, 0.14035087719298245, 0.38596491228070173, 0.3684210526315789, 0.42105263157894735, 0.5]\n"
     ]
    }
   ],
   "source": [
    "# Recriação da função utilizada pelo teste de hipótese\n",
    "def pen_falso_negativo(y_true, y_pred):\n",
    "    import numpy as np\n",
    "    count = 0\n",
    "    for i,j in enumerate(y_pred):\n",
    "        if y_true[i] == 0 and j == 1:\n",
    "            count += 2\n",
    "        elif y_true[i] == 1 and j == 0:\n",
    "            count += 1\n",
    "    return count/len(y_true)\n",
    "\n",
    "# Aplicação da classificação\n",
    "clf_test = classificacao_th(bc, [0,1,2,3], 4, pen_falso_negativo, 'Medida de falso negativo', folds=10)\n",
    "\n",
    "# Aplicação do teste de hipótese\n",
    "from scipy import stats\n",
    "# importando a função do t test para amostrar independentes\n",
    "from scipy.stats import ttest_ind\n",
    "np.random.seed(12345678)\n",
    "\n",
    "print(ttest_ind(clf_test['dt'], clf_test['7nn']))"
   ]
  },
  {
   "cell_type": "markdown",
   "metadata": {},
   "source": [
    "**Conclusão:** Como pode ser observado no p-valor, cujo valor é (levemente) maior que o nível de significância (alpha) igual à 5%, a hipótese levantada não deve ser rejeitada pois não há certeza em relação a igualdade das médias de erro dos dois classificadores. A hipótese de que a decision tree seja, de fato, o melhor classificador para o problema também não é descartada já que o valor estatístico é negativo, indicando um valor mais à esquerda da distribuição."
   ]
  }
 ],
 "metadata": {
  "kernelspec": {
   "display_name": "Python 3",
   "language": "python",
   "name": "python3"
  },
  "language_info": {
   "codemirror_mode": {
    "name": "ipython",
    "version": 3
   },
   "file_extension": ".py",
   "mimetype": "text/x-python",
   "name": "python",
   "nbconvert_exporter": "python",
   "pygments_lexer": "ipython3",
   "version": "3.5.2"
  }
 },
 "nbformat": 4,
 "nbformat_minor": 2
}
